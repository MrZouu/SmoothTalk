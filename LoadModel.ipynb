{
 "cells": [
  {
   "cell_type": "code",
   "execution_count": 1,
   "id": "43852265-5827-4211-afb2-6ac1e1422743",
   "metadata": {},
   "outputs": [],
   "source": [
    "import os\n",
    "import torch\n",
    "import torchvision\n",
    "import torchvision.transforms as transforms\n",
    "import PIL.Image as Image\n",
    "import torch.nn as nn\n",
    "from torchvision.models import resnet50, ResNet50_Weights"
   ]
  },
  {
   "cell_type": "code",
   "execution_count": 2,
   "id": "8a052b9e-8167-4653-a0a7-5176bd1bebcb",
   "metadata": {},
   "outputs": [],
   "source": [
    "classes = [\"A\", \"B\", \"C\", \"D\", \"E\", \"F\", \"G\", \"H\", \"I\", \"J\", \"K\", \"L\", \"M\", \"N\", \"O\", \"P\", \"Q\", \"R\", \"S\", \"T\", \"U\", \"V\", \"W\", \"X\", \"Y\", \"Z\"]"
   ]
  },
  {
   "cell_type": "code",
   "execution_count": 3,
   "id": "5dd03510-e884-4ea2-9c4e-fecd048d9e1e",
   "metadata": {},
   "outputs": [],
   "source": [
    "class ResNet50(nn.Module):\n",
    "    def __init__(self, num_classes, weights=None):\n",
    "        super(ResNet50, self).__init__()\n",
    "        # Charger le modèle pré-entraîné ResNet50\n",
    "        self.resnet = resnet50(pretrained=True if weights is None else False)\n",
    "\n",
    "        # Extraire les couches sauf la couche de classification finale (dernière couche)\n",
    "        self.features = nn.Sequential(*list(self.resnet.children())[:-1])\n",
    "\n",
    "        # Ajouter une nouvelle couche de classification adaptée au nombre de classes (26 lettres)\n",
    "        self.fc = nn.Linear(self.resnet.fc.in_features, num_classes)\n",
    "\n",
    "    def forward(self, x):\n",
    "        x = self.features(x)\n",
    "        x = x.view(x.size(0), -1)\n",
    "        x = self.fc(x)\n",
    "        return x"
   ]
  },
  {
   "cell_type": "code",
   "execution_count": 4,
   "id": "3f505d79-6c20-4c39-8b14-c2da7de7e9bf",
   "metadata": {},
   "outputs": [
    {
     "name": "stdout",
     "output_type": "stream",
     "text": [
      "Using device: cuda\n",
      "Using the ASL DATASET\n"
     ]
    }
   ],
   "source": [
    "device = torch.device(\"cuda\" if torch.cuda.is_available() else \"cpu\")\n",
    "print(f\"Using device: {device}\")\n",
    "print(\"Using the ASL DATASET\")"
   ]
  },
  {
   "cell_type": "code",
   "execution_count": 5,
   "id": "afaf70e8-3220-4ac1-a97a-9380da7a7cfe",
   "metadata": {
    "scrolled": true
   },
   "outputs": [
    {
     "name": "stderr",
     "output_type": "stream",
     "text": [
      "C:\\Users\\Lorenzo\\anaconda3\\lib\\site-packages\\torchvision\\models\\_utils.py:208: UserWarning: The parameter 'pretrained' is deprecated since 0.13 and may be removed in the future, please use 'weights' instead.\n",
      "  warnings.warn(\n",
      "C:\\Users\\Lorenzo\\anaconda3\\lib\\site-packages\\torchvision\\models\\_utils.py:223: UserWarning: Arguments other than a weight enum or `None` for 'weights' are deprecated since 0.13 and may be removed in the future. The current behavior is equivalent to passing `weights=ResNet50_Weights.IMAGENET1K_V1`. You can also use `weights=ResNet50_Weights.DEFAULT` to get the most up-to-date weights.\n",
      "  warnings.warn(msg)\n"
     ]
    },
    {
     "data": {
      "text/plain": [
       "<All keys matched successfully>"
      ]
     },
     "execution_count": 5,
     "metadata": {},
     "output_type": "execute_result"
    }
   ],
   "source": [
    "model = ResNet50(26).to(device)\n",
    "model.load_state_dict(torch.load('pytorch_model_Thomas.pth', map_location=device))"
   ]
  },
  {
   "cell_type": "code",
   "execution_count": 6,
   "id": "f67170b1-8747-4341-92a7-965c61acc6f7",
   "metadata": {},
   "outputs": [],
   "source": [
    "mean = [0.485, 0.456, 0.406]\n",
    "std = [0.229, 0.224, 0.225]\n",
    "\n",
    "    transform = transforms.Compose([\n",
    "        transforms.CenterCrop(min(image.size)),\n",
    "        transforms.Resize((224, 224)),\n",
    "        transforms.ToTensor(),\n",
    "        transforms.Normalize(torch.Tensor(mean), torch.Tensor(std))  # Normalisation des valeurs de pixel centré autour de 0 (-1 ; 1)\n",
    "    ])"
   ]
  },
  {
   "cell_type": "code",
   "execution_count": 7,
   "id": "1a776981-7d4c-4f1d-abe9-96b1d095a439",
   "metadata": {},
   "outputs": [],
   "source": [
    "def classify(model, transform, image_path, classes):\n",
    "    model = model.eval()\n",
    "    image = Image.open(image_path)  # Ouvrir image\n",
    "    \n",
    "    image = transform(image).float()  # Transformer image\n",
    "    image = image.unsqueeze(0)\n",
    "\n",
    "    # Assurez-vous que les données d'entrée sont sur le même dispositif que le modèle\n",
    "    image = image.to(device)\n",
    "\n",
    "    output = model(image)\n",
    "    _, predicted = torch.max(output.data, 1)\n",
    "\n",
    "    print(classes[predicted.item()])"
   ]
  },
  {
   "cell_type": "code",
   "execution_count": 8,
   "id": "e8d230a3-0a32-4b75-9acd-58396b4dd280",
   "metadata": {},
   "outputs": [
    {
     "ename": "NameError",
     "evalue": "name 'transform' is not defined",
     "output_type": "error",
     "traceback": [
      "\u001b[1;31m---------------------------------------------------------------------------\u001b[0m",
      "\u001b[1;31mNameError\u001b[0m                                 Traceback (most recent call last)",
      "Cell \u001b[1;32mIn[8], line 1\u001b[0m\n\u001b[1;32m----> 1\u001b[0m classify(model, \u001b[43mtransform\u001b[49m, \u001b[38;5;124m\"\u001b[39m\u001b[38;5;124m./Sign/L2.jpg\u001b[39m\u001b[38;5;124m\"\u001b[39m, classes)\n",
      "\u001b[1;31mNameError\u001b[0m: name 'transform' is not defined"
     ]
    }
   ],
   "source": [
    "classify(model, transform, \"./Sign/L2.jpg\", classes)"
   ]
  }
 ],
 "metadata": {
  "kernelspec": {
   "display_name": "Python 3 (ipykernel)",
   "language": "python",
   "name": "python3"
  },
  "language_info": {
   "codemirror_mode": {
    "name": "ipython",
    "version": 3
   },
   "file_extension": ".py",
   "mimetype": "text/x-python",
   "name": "python",
   "nbconvert_exporter": "python",
   "pygments_lexer": "ipython3",
   "version": "3.10.6"
  }
 },
 "nbformat": 4,
 "nbformat_minor": 5
}
