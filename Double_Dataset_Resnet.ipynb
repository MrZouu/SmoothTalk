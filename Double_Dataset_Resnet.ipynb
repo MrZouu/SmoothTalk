{
 "cells": [
  {
   "cell_type": "markdown",
   "id": "5b07c32d",
   "metadata": {},
   "source": [
    "# Initialisation"
   ]
  },
  {
   "cell_type": "code",
   "execution_count": 1,
   "id": "932bdfe4",
   "metadata": {},
   "outputs": [],
   "source": [
    "import os\n",
    "import torch\n",
    "import torchvision\n",
    "import torchvision.transforms as transforms"
   ]
  },
  {
   "cell_type": "code",
   "execution_count": 2,
   "id": "966dfd31-c276-4588-aab4-061d1a25f851",
   "metadata": {},
   "outputs": [],
   "source": [
    "import torch.nn as nn\n",
    "import torch.optim as optim\n",
    "from torch.utils.data import DataLoader, random_split\n",
    "from torchvision import transforms, models, datasets\n",
    "from torchvision.models import resnet50, ResNet50_Weights\n",
    "from tqdm import tqdm # Afficher entrainement en temps reel\n",
    "import matplotlib.pyplot as plt # Dessiner graphes\n",
    "from sklearn.metrics import precision_recall_fscore_support"
   ]
  },
  {
   "cell_type": "markdown",
   "id": "e9ce3505-f6aa-432c-84ee-2924fd9c80db",
   "metadata": {},
   "source": [
    "# CUDA"
   ]
  },
  {
   "cell_type": "code",
   "execution_count": 3,
   "id": "55257c35",
   "metadata": {},
   "outputs": [
    {
     "name": "stdout",
     "output_type": "stream",
     "text": [
      "Using device: cuda\n",
      "Using the ASL DATASET\n"
     ]
    }
   ],
   "source": [
    "device = torch.device(\"cuda\" if torch.cuda.is_available() else \"cpu\")\n",
    "print(f\"Using device: {device}\")\n",
    "print(\"Using the ASL DATASET\")"
   ]
  },
  {
   "cell_type": "code",
   "execution_count": 4,
   "id": "7e92fd0d",
   "metadata": {},
   "outputs": [
    {
     "name": "stdout",
     "output_type": "stream",
     "text": [
      "True\n",
      "1\n"
     ]
    },
    {
     "data": {
      "text/plain": [
       "'NVIDIA GeForce GTX 1060 6GB'"
      ]
     },
     "execution_count": 4,
     "metadata": {},
     "output_type": "execute_result"
    }
   ],
   "source": [
    "print(torch.cuda.is_available()) # Si cuda disponible / bien installé\n",
    "print(torch.cuda.device_count()) # Quantité de GPU ( 0 si non fonctionnel )\n",
    "torch.cuda.get_device_name() # Nom de la carte graphique"
   ]
  },
  {
   "cell_type": "markdown",
   "id": "b4819e4d",
   "metadata": {},
   "source": [
    "# Pré-Traitement"
   ]
  },
  {
   "cell_type": "code",
   "execution_count": 5,
   "id": "822321db",
   "metadata": {},
   "outputs": [],
   "source": [
    "# Définir la transformation des données\n",
    "mean = [0.485, 0.456, 0.406]\n",
    "std = [0.229, 0.224, 0.225]\n",
    "\n",
    "transform = transforms.Compose([\n",
    "    transforms.Resize((224, 224)),\n",
    "    transforms.ToTensor(),\n",
    "    transforms.Normalize(torch.Tensor(mean), torch.Tensor(std))  # Normalisation des valeurs de pixel centré autour de 0 (-1 ; 1)\n",
    "])"
   ]
  },
  {
   "cell_type": "markdown",
   "id": "3d740beb",
   "metadata": {},
   "source": [
    "# Charger données"
   ]
  },
  {
   "cell_type": "code",
   "execution_count": 6,
   "id": "54d2c99a",
   "metadata": {},
   "outputs": [],
   "source": [
    "# Chemins des répertoires de division\n",
    "train_dataset_path = 'MixCustomKaggle'\n",
    "test_dataset_path = 'Custom_Dataset'"
   ]
  },
  {
   "cell_type": "code",
   "execution_count": 7,
   "id": "bdb2f74c",
   "metadata": {},
   "outputs": [],
   "source": [
    "# Charger le jeu de données ASL Alphabet\n",
    "asl_dataset = torchvision.datasets.ImageFolder(root=train_dataset_path, transform=transform)"
   ]
  },
  {
   "cell_type": "code",
   "execution_count": 8,
   "id": "ede0e1b5",
   "metadata": {},
   "outputs": [],
   "source": [
    "# Créer une fonction pour charger les images depuis un répertoire\n",
    "def load_images_from_directory(directory):\n",
    "    images = []\n",
    "    for root, dirs, files in os.walk(directory):\n",
    "        for file in files:\n",
    "            if file.endswith(\".jpg\"):  # Assurez-vous de spécifier la bonne extension d'image\n",
    "                image_path = os.path.join(root, file)\n",
    "                images.append((image_path, asl_dataset.class_to_idx[root.split('\\\\')[-1]]))\n",
    "    return images\n",
    "\n",
    "# Charger les ensembles d'entraînement et de test\n",
    "train_dataset = load_images_from_directory(train_dataset_path)\n",
    "test_dataset = load_images_from_directory(test_dataset_path)"
   ]
  },
  {
   "cell_type": "code",
   "execution_count": 9,
   "id": "cbcade04",
   "metadata": {},
   "outputs": [],
   "source": [
    "# Appliquer les transformations aux ensembles d'entraînement et de test\n",
    "train_dataset = torchvision.datasets.ImageFolder(root=train_dataset_path, transform=transform)\n",
    "test_dataset = torchvision.datasets.ImageFolder(root=test_dataset_path, transform=transform)\n",
    "\n",
    "# Définir les chargeurs de données\n",
    "train_loader = torch.utils.data.DataLoader(dataset=train_dataset, batch_size=64, shuffle=True)\n",
    "test_loader = torch.utils.data.DataLoader(dataset=test_dataset, batch_size=64, shuffle=False)"
   ]
  },
  {
   "cell_type": "markdown",
   "id": "1b5c163d",
   "metadata": {},
   "source": [
    "# Resnet"
   ]
  },
  {
   "cell_type": "code",
   "execution_count": 10,
   "id": "e5cc60ca",
   "metadata": {},
   "outputs": [],
   "source": [
    "class ResNet50(nn.Module):\n",
    "    def __init__(self, num_classes, weights=None):\n",
    "        super(ResNet50, self).__init__()\n",
    "        # Charger le modèle pré-entraîné ResNet50\n",
    "        self.resnet = resnet50(pretrained=True if weights is None else False)\n",
    "\n",
    "        # Extraire les couches sauf la couche de classification finale (dernière couche)\n",
    "        self.features = nn.Sequential(*list(self.resnet.children())[:-1])\n",
    "\n",
    "        # Ajouter une nouvelle couche de classification adaptée au nombre de classes (26 lettres)\n",
    "        self.fc = nn.Linear(self.resnet.fc.in_features, num_classes)\n",
    "\n",
    "    def forward(self, x):\n",
    "        x = self.features(x)\n",
    "        x = x.view(x.size(0), -1)\n",
    "        x = self.fc(x)\n",
    "        return x"
   ]
  },
  {
   "cell_type": "code",
   "execution_count": 11,
   "id": "603a2c9c",
   "metadata": {},
   "outputs": [
    {
     "name": "stderr",
     "output_type": "stream",
     "text": [
      "C:\\Users\\Lorenzo\\anaconda3\\lib\\site-packages\\torchvision\\models\\_utils.py:208: UserWarning: The parameter 'pretrained' is deprecated since 0.13 and may be removed in the future, please use 'weights' instead.\n",
      "  warnings.warn(\n",
      "C:\\Users\\Lorenzo\\anaconda3\\lib\\site-packages\\torchvision\\models\\_utils.py:223: UserWarning: Arguments other than a weight enum or `None` for 'weights' are deprecated since 0.13 and may be removed in the future. The current behavior is equivalent to passing `weights=None`.\n",
      "  warnings.warn(msg)\n"
     ]
    }
   ],
   "source": [
    "# Instancier le modèle ResNet50, la fonction de coût et l'optimiseur\n",
    "num_classes = 26  # Nombre de classes correspondant aux lettres de l'alphabet\n",
    "# model = ResNet50(num_classes, weights=None).to(device)\n",
    "model = ResNet50(num_classes, weights=ResNet50_Weights.DEFAULT).to(device)\n",
    "criterion = nn.CrossEntropyLoss()\n",
    "optimizer = optim.Adam(model.parameters(), lr=0.001)"
   ]
  },
  {
   "cell_type": "code",
   "execution_count": 12,
   "id": "99539e93-dd7f-40d2-b25e-6bda00c6fcab",
   "metadata": {},
   "outputs": [],
   "source": [
    "num_epochs = 13\n",
    "train_losses = []\n",
    "train_accuracies = []\n",
    "test_accuracies = []\n",
    "class_precisions = []\n",
    "class_recalls = []\n",
    "class_f1_scores = []"
   ]
  },
  {
   "cell_type": "markdown",
   "id": "446ca48a",
   "metadata": {},
   "source": [
    "# Entrainement"
   ]
  },
  {
   "cell_type": "code",
   "execution_count": 13,
   "id": "2df39f43",
   "metadata": {},
   "outputs": [],
   "source": [
    "# Entraîner le modèle\n",
    "# Initialiser les listes pour stocker les statistiques d'entraînement\n",
    "train_losses = []\n",
    "train_accuracies = []\n",
    "test_accuracies = []"
   ]
  },
  {
   "cell_type": "code",
   "execution_count": null,
   "id": "8e34b507",
   "metadata": {},
   "outputs": [],
   "source": [
    "for epoch in range(num_epochs):\n",
    "    model.train()\n",
    "    running_loss = 0.0\n",
    "    correct = 0\n",
    "    total = 0\n",
    "\n",
    "    progress_bar = tqdm(train_loader, desc=f'Epoch {epoch + 1}/{num_epochs}', leave=False, position=0, dynamic_ncols=True)\n",
    "\n",
    "    for batch_idx, (inputs, labels) in enumerate(progress_bar):\n",
    "        inputs, labels = inputs.to(device), labels.to(device)\n",
    "\n",
    "        optimizer.zero_grad()\n",
    "        outputs = model(inputs)\n",
    "        loss = criterion(outputs, labels)\n",
    "        loss.backward()\n",
    "        optimizer.step()\n",
    "\n",
    "        running_loss += loss.item()\n",
    "\n",
    "        _, predicted = torch.max(outputs.data, 1)\n",
    "        total += labels.size(0)\n",
    "        correct += (predicted == labels).sum().item()\n",
    "\n",
    "        progress_bar.set_postfix(loss=f'{running_loss / (batch_idx + 1):.3f}', accuracy=f'{100 * correct / total:.2f}%')\n",
    "\n",
    "    # Imprimer la statistique de l'ensemble d'entraînement à la fin de l'époque\n",
    "    average_loss = running_loss / len(train_loader)\n",
    "    accuracy = correct / total\n",
    "    train_losses.append(average_loss)\n",
    "    train_accuracies.append(accuracy)\n",
    "    progress_bar.set_postfix(loss=f'{average_loss:.3f}', accuracy=f'{100 * accuracy:.2f}%')\n",
    "    progress_bar.close()  # Fermer la barre de progression à la fin de l'époque\n",
    "\n",
    "    # Tester le modèle sur les données de test après chaque époque\n",
    "    model.eval()\n",
    "    correct = 0\n",
    "    total = 0\n",
    "    all_labels = []\n",
    "    all_predicted = []\n",
    "    \n",
    "    with torch.no_grad():\n",
    "        for batch_idx, (inputs, labels) in enumerate(test_loader):\n",
    "            inputs, labels = inputs.to(device), labels.to(device)\n",
    "\n",
    "            outputs = model(inputs)\n",
    "            _, predicted = torch.max(outputs, 1)\n",
    "            total += labels.size(0)\n",
    "            correct += (predicted == labels).sum().item()\n",
    "\n",
    "            all_labels.extend(labels.cpu().numpy())\n",
    "            all_predicted.extend(predicted.cpu().numpy())\n",
    "\n",
    "    # Enregistrer la précision des tests\n",
    "    test_accuracy = correct / total\n",
    "    test_accuracies.append(test_accuracy)"
   ]
  },
  {
   "cell_type": "code",
   "execution_count": null,
   "id": "eedd2457-089c-430e-ab72-015e072106b2",
   "metadata": {},
   "outputs": [],
   "source": [
    "precision, recall, f1_score, _ = precision_recall_fscore_support(all_labels, all_predicted, average=None)\n",
    "class_precisions.append(precision)\n",
    "class_recalls.append(recall)\n",
    "class_f1_scores.append(f1_score)\n",
    "\n",
    "# Afficher les métriques par classe\n",
    "for i, (precision, recall, f1_score) in enumerate(zip(class_precisions[-1], class_recalls[-1], class_f1_scores[-1])):\n",
    "    print(f\"Class {i}: Precision={precision:.4f}, Recall={recall:.4f}, F1-Score={f1_score:.4f}\")\n"
   ]
  },
  {
   "cell_type": "markdown",
   "id": "1e49568e",
   "metadata": {},
   "source": [
    "# Graphes"
   ]
  },
  {
   "cell_type": "code",
   "execution_count": null,
   "id": "8689a17e",
   "metadata": {},
   "outputs": [],
   "source": [
    "# Tracer les courbes d'entraînement\n",
    "plt.figure(figsize=(12, 4))\n",
    "\n",
    "# Courbe de perte\n",
    "plt.subplot(1, 2, 1)\n",
    "plt.plot(train_losses, label='Train Loss', marker='o')\n",
    "plt.xlabel('Epoch')\n",
    "plt.ylabel('Loss')\n",
    "plt.title('Training Loss Over Epochs')\n",
    "plt.legend()\n",
    "\n",
    "# Courbe d'exactitude\n",
    "plt.subplot(1, 2, 2)\n",
    "plt.plot(train_accuracies, label='Train Accuracy', marker='o')\n",
    "plt.plot(test_accuracies, label='Test Accuracy', marker='o')\n",
    "plt.xlabel('Epoch')\n",
    "plt.ylabel('Accuracy')\n",
    "plt.title('Training and Test Accuracy Over Epochs')\n",
    "plt.legend()\n",
    "\n",
    "plt.tight_layout()\n",
    "plt.show()"
   ]
  },
  {
   "cell_type": "markdown",
   "id": "d535f2b2",
   "metadata": {},
   "source": [
    "# Enregistrement du modèle"
   ]
  },
  {
   "cell_type": "code",
   "execution_count": null,
   "id": "a6d465bb",
   "metadata": {},
   "outputs": [],
   "source": [
    " # Enregistrer le modèle à la fin de l'entraînement\n",
    "torch.save(model.state_dict(), 'pytorch_model.pth')\n",
    "print(\"Le modèle a été enregistré.\")"
   ]
  },
  {
   "cell_type": "code",
   "execution_count": null,
   "id": "4e98f150",
   "metadata": {},
   "outputs": [],
   "source": []
  }
 ],
 "metadata": {
  "kernelspec": {
   "display_name": "Python 3 (ipykernel)",
   "language": "python",
   "name": "python3"
  },
  "language_info": {
   "codemirror_mode": {
    "name": "ipython",
    "version": 3
   },
   "file_extension": ".py",
   "mimetype": "text/x-python",
   "name": "python",
   "nbconvert_exporter": "python",
   "pygments_lexer": "ipython3",
   "version": "3.10.14"
  }
 },
 "nbformat": 4,
 "nbformat_minor": 5
}
